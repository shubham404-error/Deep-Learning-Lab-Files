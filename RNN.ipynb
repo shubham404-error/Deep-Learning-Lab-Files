{
 "cells": [
  {
   "cell_type": "markdown",
   "metadata": {
    "id": "PnlN1CmfrWw7"
   },
   "source": [
    "# RNN\n",
    "\n",
    "### RNN takes as input a tensor of shape (1, input_size) and a hidden state tensor of shape (1, hidden_size). The forward method performs a single forward pass of the RNN, and returns the output tensor of shape (1, output_size) and the updated hidden state tensor of shape (1, hidden_size).\n",
    "\n",
    "### To use this RNN, you can create an instance of the SimpleRNN class, and then call its forward method with appropriate inputs and initial hidden state:"
   ]
  },
  {
   "cell_type": "code",
   "execution_count": null,
   "metadata": {
    "id": "hyangtAXqfcV"
   },
   "outputs": [],
   "source": [
    "import torch\n",
    "import torch.nn as nn\n",
    "\n",
    "class SimpleRNN(nn.Module):\n",
    "    def __init__(self, input_size, hidden_size, output_size):\n",
    "        super(SimpleRNN, self).__init__()\n",
    "        self.hidden_size = hidden_size\n",
    "        self.i2h = nn.Linear(input_size + hidden_size, hidden_size)\n",
    "        self.i2o = nn.Linear(input_size + hidden_size, output_size)\n",
    "        self.softmax = nn.LogSoftmax(dim=1)\n",
    "\n",
    "    def forward(self, input, hidden):\n",
    "        combined = torch.cat((input, hidden), 1)\n",
    "        hidden = self.i2h(combined)\n",
    "        output = self.i2o(combined)\n",
    "        output = self.softmax(output)\n",
    "        return output, hidden\n",
    "\n",
    "    def initHidden(self):\n",
    "        return torch.zeros(1, self.hidden_size)\n"
   ]
  },
  {
   "cell_type": "code",
   "execution_count": null,
   "metadata": {
    "id": "3eOtPr_Mqh0V"
   },
   "outputs": [],
   "source": [
    "input_size = 10\n",
    "hidden_size = 20\n",
    "output_size = 5\n",
    "\n",
    "rnn = SimpleRNN(input_size, hidden_size, output_size)\n",
    "\n",
    "input = torch.randn(1, input_size)\n",
    "hidden = rnn.initHidden()\n",
    "\n",
    "output, hidden = rnn(input, hidden)\n"
   ]
  },
  {
   "cell_type": "code",
   "execution_count": null,
   "metadata": {
    "colab": {
     "base_uri": "https://localhost:8080/"
    },
    "id": "YtHjh2OKrAAx",
    "outputId": "b26d9e58-ddd5-40fd-9b20-f27e9056f638"
   },
   "outputs": [
    {
     "data": {
      "text/plain": [
       "tensor([[-1.9448, -1.6560, -1.3450, -1.8465, -1.3953]],\n",
       "       grad_fn=<LogSoftmaxBackward0>)"
      ]
     },
     "execution_count": 4,
     "metadata": {},
     "output_type": "execute_result"
    }
   ],
   "source": [
    "output"
   ]
  }
 ],
 "metadata": {
  "colab": {
   "provenance": []
  },
  "kernelspec": {
   "display_name": "Python 3 (ipykernel)",
   "language": "python",
   "name": "python3"
  },
  "language_info": {
   "codemirror_mode": {
    "name": "ipython",
    "version": 3
   },
   "file_extension": ".py",
   "mimetype": "text/x-python",
   "name": "python",
   "nbconvert_exporter": "python",
   "pygments_lexer": "ipython3",
   "version": "3.9.12"
  }
 },
 "nbformat": 4,
 "nbformat_minor": 1
}
