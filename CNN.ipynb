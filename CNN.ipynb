{
  "cells": [
    {
      "cell_type": "markdown",
      "source": [
        "## How to implement a **Convolutional Neural Network (CNN)** on the MNIST dataset \n",
        "##using Keras and TensorFlow in Python:"
      ],
      "metadata": {
        "id": "B3ionF2_veVO"
      }
    },
    {
      "cell_type": "code",
      "execution_count": null,
      "metadata": {
        "colab": {
          "background_save": true,
          "base_uri": "https://localhost:8080/"
        },
        "id": "mB54Va1EdgSj",
        "outputId": "04c921b7-b0d0-4c1f-bf78-3bb1b36abccb"
      },
      "outputs": [
        {
          "name": "stdout",
          "output_type": "stream",
          "text": [
            "Downloading data from https://storage.googleapis.com/tensorflow/tf-keras-datasets/mnist.npz\n",
            "11490434/11490434 [==============================] - 0s 0us/step\n",
            "Epoch 1/10\n",
            "469/469 [==============================] - 71s 145ms/step - loss: 0.2007 - accuracy: 0.9418 - val_loss: 0.0645 - val_accuracy: 0.9785\n",
            "Epoch 2/10\n",
            "469/469 [==============================] - 59s 127ms/step - loss: 0.0565 - accuracy: 0.9828 - val_loss: 0.0375 - val_accuracy: 0.9874\n",
            "Epoch 3/10\n",
            "469/469 [==============================] - 59s 125ms/step - loss: 0.0386 - accuracy: 0.9883 - val_loss: 0.0297 - val_accuracy: 0.9899\n",
            "Epoch 4/10\n",
            "469/469 [==============================] - 59s 126ms/step - loss: 0.0288 - accuracy: 0.9911 - val_loss: 0.0324 - val_accuracy: 0.9885\n",
            "Epoch 5/10\n",
            "469/469 [==============================] - 58s 124ms/step - loss: 0.0225 - accuracy: 0.9929 - val_loss: 0.0283 - val_accuracy: 0.9916\n",
            "Epoch 6/10\n",
            "469/469 [==============================] - 59s 126ms/step - loss: 0.0194 - accuracy: 0.9939 - val_loss: 0.0250 - val_accuracy: 0.9914\n",
            "Epoch 7/10\n",
            "469/469 [==============================] - 57s 121ms/step - loss: 0.0136 - accuracy: 0.9957 - val_loss: 0.0372 - val_accuracy: 0.9886\n",
            "Epoch 8/10\n",
            "469/469 [==============================] - 56s 119ms/step - loss: 0.0127 - accuracy: 0.9960 - val_loss: 0.0284 - val_accuracy: 0.9902\n",
            "Epoch 9/10\n",
            "469/469 [==============================] - 60s 128ms/step - loss: 0.0090 - accuracy: 0.9973 - val_loss: 0.0287 - val_accuracy: 0.9921\n",
            "Epoch 10/10\n",
            "469/469 [==============================] - 59s 125ms/step - loss: 0.0080 - accuracy: 0.9974 - val_loss: 0.0243 - val_accuracy: 0.9919\n",
            "Test loss: 0.024331847205758095\n",
            "Test accuracy: 0.9919000267982483\n"
          ]
        }
      ],
      "source": [
        "import numpy as np\n",
        "import keras\n",
        "from keras.datasets import mnist\n",
        "from keras.models import Sequential\n",
        "from keras.layers import Dense, Flatten, Conv2D, MaxPooling2D\n",
        "from keras.utils import to_categorical\n",
        "\n",
        "# Load the MNIST dataset\n",
        "(x_train, y_train), (x_test, y_test) = mnist.load_data()\n",
        "\n",
        "# Normalize pixel values between 0 and 1\n",
        "x_train = x_train.astype('float32') / 255.\n",
        "x_test = x_test.astype('float32') / 255.\n",
        "\n",
        "# Reshape images to 4D tensor with shape (batch_size, rows, cols, channels)\n",
        "x_train = np.reshape(x_train, (-1, 28, 28, 1))\n",
        "x_test = np.reshape(x_test, (-1, 28, 28, 1))\n",
        "\n",
        "# One-hot encode the labels\n",
        "y_train = to_categorical(y_train, num_classes=10)\n",
        "y_test = to_categorical(y_test, num_classes=10)\n",
        "w\n",
        "# Define the model architecture\n",
        "model = Sequential()\n",
        "model.add(Conv2D(32, kernel_size=(3, 3), activation='relu', input_shape=(28, 28, 1)))\n",
        "model.add(MaxPooling2D(pool_size=(2, 2)))\n",
        "model.add(Conv2D(64, kernel_size=(3, 3), activation='relu'))\n",
        "model.add(MaxPooling2D(pool_size=(2, 2)))\n",
        "model.add(Flatten())\n",
        "model.add(Dense(128, activation='relu'))\n",
        "model.add(Dense(10, activation='softmax'))\n",
        "\n",
        "# Compile the model\n",
        "model.compile(loss='categorical_crossentropy', optimizer='adam', metrics=['accuracy'])\n",
        "\n",
        "# Train the model\n",
        "model.fit(x_train, y_train, batch_size=128, epochs=10, verbose=1, validation_data=(x_test, y_test))\n",
        "\n",
        "# Evaluate the model on the test set\n",
        "score = model.evaluate(x_test, y_test, verbose=0)\n",
        "print('Test loss:', score[0])\n",
        "print('Test accuracy:', score[1])"
      ]
    },
    {
      "cell_type": "markdown",
      "source": [
        ">In this example, we have a CNN with two convolutional layers, each followed by a max pooling layer. The output of the second max pooling layer is then flattened and fed into two fully connected layers, which output the final classification probabilities.\n",
        "\n",
        ">We have trained the model for 10 epochs, using a batch size of 128. We have also specified the validation data to monitor the accuracy on the test set during training."
      ],
      "metadata": {
        "id": "5C76jyQLv0oM"
      }
    }
  ],
  "metadata": {
    "colab": {
      "provenance": []
    },
    "kernelspec": {
      "display_name": "Python 3",
      "name": "python3"
    },
    "language_info": {
      "name": "python"
    }
  },
  "nbformat": 4,
  "nbformat_minor": 0
}